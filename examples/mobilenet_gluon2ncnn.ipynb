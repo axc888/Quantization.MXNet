{
 "cells": [
  {
   "cell_type": "code",
   "execution_count": 1,
   "metadata": {},
   "outputs": [],
   "source": [
    "import caffe\n",
    "\n",
    "from mxnet import nd\n",
    "from gluoncv.model_zoo import mobilenet1_0\n",
    "\n",
    "from collections import OrderedDict\n",
    "import functools\n",
    "import numpy as np"
   ]
  },
  {
   "cell_type": "code",
   "execution_count": 2,
   "metadata": {},
   "outputs": [],
   "source": [
    "def _is_number(s):\n",
    "    try:\n",
    "        _ = int(s)\n",
    "        return True\n",
    "    except:\n",
    "        return False"
   ]
  },
  {
   "cell_type": "code",
   "execution_count": 3,
   "metadata": {},
   "outputs": [],
   "source": [
    "# map dynamic parameters names to static ones\n",
    "# for example, \n",
    "# feature.0.weight -> conv0_weight\n",
    "def recover_pnames(net, gluon_params):\n",
    "    params = OrderedDict()\n",
    "    for k in gluon_params.keys():\n",
    "        *others, attr_name = k.split(\".\")\n",
    "        atom_block = functools.reduce(\n",
    "            lambda b, n: b[int(n)] if _is_number(n) else getattr(b, n),\n",
    "            others, gluon_net\n",
    "        )\n",
    "        params[f'{atom_block.name[len(net.name)+1:]}_{attr_name}'] = gluon_params[k].asnumpy()\n",
    "    return params"
   ]
  },
  {
   "cell_type": "code",
   "execution_count": 4,
   "metadata": {},
   "outputs": [],
   "source": [
    "# swap in_channel for the first convolution\n",
    "def rgb2bgr(conv_wt):\n",
    "    r = conv_wt[:, 0, :, :]\n",
    "    g = conv_wt[:, 1, :, :]\n",
    "    b = conv_wt[:, 2, :, :]\n",
    "    return np.stack((b, g, r), axis=1)"
   ]
  },
  {
   "cell_type": "code",
   "execution_count": 5,
   "metadata": {},
   "outputs": [],
   "source": [
    "# map gluon layer names to caffe\n",
    "caffe_conv_list = [\n",
    "    \"conv1\",\n",
    "    \"conv2_1/dw\", \"conv2_1/sep\", \"conv2_2/dw\", \"conv2_2/sep\",\n",
    "    \"conv3_1/dw\", \"conv3_1/sep\", \"conv3_2/dw\", \"conv3_2/sep\",\n",
    "    \"conv4_1/dw\", \"conv4_1/sep\", \"conv4_2/dw\", \"conv4_2/sep\",\n",
    "    \"conv5_1/dw\", \"conv5_1/sep\", \"conv5_2/dw\", \"conv5_2/sep\",\n",
    "    \"conv5_3/dw\", \"conv5_3/sep\", \"conv5_4/dw\", \"conv5_4/sep\",\n",
    "    \"conv5_5/dw\", \"conv5_5/sep\", \"conv5_6/dw\", \"conv5_6/sep\",\n",
    "    \"conv6/dw\", \"conv6/sep\"\n",
    "]\n",
    "layer_map = {f\"conv{i}\": conv for i, conv in enumerate(caffe_conv_list)}\n",
    "layer_map['dense0'] = 'fc7'"
   ]
  },
  {
   "cell_type": "code",
   "execution_count": 6,
   "metadata": {},
   "outputs": [],
   "source": [
    "caffe_net = caffe.Net(\"models/mobilenet_no_bn.prototxt\", caffe.TEST)\n",
    "gluon_net = mobilenet1_0(pretrained=False)\n",
    "\n",
    "gluon_params = nd.load(\"tmp/checkpoints/mobilenet1.0_quantize_without_fc-006000.params\")\n",
    "gluon_params = recover_pnames(gluon_net, gluon_params)"
   ]
  },
  {
   "cell_type": "code",
   "execution_count": 7,
   "metadata": {
    "scrolled": true
   },
   "outputs": [
    {
     "name": "stdout",
     "output_type": "stream",
     "text": [
      "Merge BN: conv0\n",
      "Merge fake BN: conv1\n",
      "Merge fake BN: conv2\n",
      "Merge fake BN: conv3\n",
      "Merge fake BN: conv4\n",
      "Merge fake BN: conv5\n",
      "Merge fake BN: conv6\n",
      "Merge fake BN: conv7\n",
      "Merge fake BN: conv8\n",
      "Merge fake BN: conv9\n",
      "Merge fake BN: conv10\n",
      "Merge fake BN: conv11\n",
      "Merge fake BN: conv12\n",
      "Merge fake BN: conv13\n",
      "Merge fake BN: conv14\n",
      "Merge fake BN: conv15\n",
      "Merge fake BN: conv16\n",
      "Merge fake BN: conv17\n",
      "Merge fake BN: conv18\n",
      "Merge fake BN: conv19\n",
      "Merge fake BN: conv20\n",
      "Merge fake BN: conv21\n",
      "Merge fake BN: conv22\n",
      "Merge fake BN: conv23\n",
      "Merge fake BN: conv24\n",
      "Merge fake BN: conv25\n",
      "Merge fake BN: conv26\n"
     ]
    }
   ],
   "source": [
    "update_params = {}\n",
    "for k in gluon_params.keys():\n",
    "    if \"_weight\" in k:\n",
    "        basic_name = k[:-len(\"_weight\")]\n",
    "        bn_name = basic_name.replace(\"conv\", \"batchnorm\")\n",
    "        if f'{basic_name}_gamma' in gluon_params:\n",
    "            print(f\"Merge fake BN: {basic_name}\")\n",
    "            weight = gluon_params[f'{basic_name}_weight']\n",
    "            bias = gluon_params[f'{basic_name}_bias']\n",
    "            \n",
    "            gamma = gluon_params[f'{basic_name}_gamma']\n",
    "            beta = gluon_params[f'{basic_name}_beta']\n",
    "            var = gluon_params[f'{basic_name}_running_var']\n",
    "            mean = gluon_params[f'{basic_name}_running_mean']\n",
    "            \n",
    "            w_shape = weight.shape\n",
    "            cout = w_shape[0]\n",
    "            update_params[f'{basic_name}_weight'] = (weight.reshape(cout, -1) * gamma.reshape(-1, 1) \\\n",
    "                                                      / np.sqrt(var + 1e-10).reshape(-1, 1)).reshape(w_shape)\n",
    "            update_params[f'{basic_name}_bias'] = gamma * (bias - mean) / np.sqrt(var + 1e-10) + beta\n",
    "        elif f'{bn_name}_gamma' in gluon_params:\n",
    "            print(f\"Merge BN: {basic_name}\")\n",
    "            weight = gluon_params[f'{basic_name}_weight']\n",
    "            bias = gluon_params.get(f'{basic_name}_bias', 0.)\n",
    "            \n",
    "            gamma = gluon_params[f'{bn_name}_gamma']\n",
    "            beta = gluon_params[f'{bn_name}_beta']\n",
    "            var = gluon_params[f'{bn_name}_running_var']\n",
    "            mean = gluon_params[f'{bn_name}_running_mean']\n",
    "            \n",
    "            w_shape = weight.shape\n",
    "            cout = w_shape[0]\n",
    "            update_params[f'{basic_name}_weight'] = (weight.reshape(cout, -1) * gamma.reshape(-1, 1) \\\n",
    "                                                      / np.sqrt(var + 1e-10).reshape(-1, 1)).reshape(w_shape)\n",
    "            update_params[f'{basic_name}_bias'] = gamma * (bias - mean) / np.sqrt(var + 1e-10) + beta\n",
    "gluon_params.update(update_params)"
   ]
  },
  {
   "cell_type": "code",
   "execution_count": 8,
   "metadata": {},
   "outputs": [],
   "source": [
    "scale_list = OrderedDict()\n",
    "for glayer, clayer in layer_map.items():\n",
    "    if \"conv\" in glayer:\n",
    "        # Convolution\n",
    "        weight = gluon_params[f'{glayer}_weight']\n",
    "#         # bgr to rgb\n",
    "#         if glayer == 'conv0':\n",
    "#             weight = rgb2bgr(weight)\n",
    "        caffe_net.params[clayer][0].data[...] = weight\n",
    "        caffe_net.params[clayer][1].data[...] = gluon_params[f'{glayer}_bias']\n",
    "    elif \"dense\" in glayer:   # Dense to Convolution_1x1\n",
    "        caffe_net.params[clayer][0].data[...] = gluon_params[f'{glayer}_weight'].reshape(1000,-1,1,1)\n",
    "        caffe_net.params[clayer][1].data[...] = gluon_params[f'{glayer}_bias']\n",
    "    \n",
    "    # generate scales list\n",
    "    if f'{glayer}_input_max' in gluon_params:\n",
    "        # per-channel quantize for weights\n",
    "        weight = gluon_params[f'{glayer}_weight']\n",
    "        wt_scales = []\n",
    "        for filter_ in weight:\n",
    "            max_ = abs(filter_).max()\n",
    "            wt_scale = (2 ** 7 - 1) / max_ if max_ > 1e-4 else np.float32(0.)\n",
    "            wt_scales.append(str(wt_scale))\n",
    "            \n",
    "        # calculate scale for inputs\n",
    "        max_ = gluon_params[f'{glayer}_input_max'][0]\n",
    "        in_scale = (2 ** 7 - 1) / max_ if max_ != 0. else 0.\n",
    "        scale_list[clayer] = wt_scales + [str(in_scale),]"
   ]
  },
  {
   "cell_type": "code",
   "execution_count": 9,
   "metadata": {},
   "outputs": [],
   "source": [
    "caffe_net.save(\"tmp/retrained_mobilenet.caffemodel\")"
   ]
  },
  {
   "cell_type": "code",
   "execution_count": 10,
   "metadata": {},
   "outputs": [],
   "source": [
    "# output scales table\n",
    "with open(\"tmp/mobilenet_int8.table\", \"w\") as f:\n",
    "    for k, v in scale_list.items():\n",
    "        f.write(f\"{k}_param_0 {' '.join(v[:-1])}\\n\")\n",
    "    for k, v in scale_list.items():\n",
    "        f.write(f\"{k} {v[-1]}\\n\")"
   ]
  },
  {
   "cell_type": "code",
   "execution_count": null,
   "metadata": {},
   "outputs": [],
   "source": []
  }
 ],
 "metadata": {
  "kernelspec": {
   "display_name": "Python 3",
   "language": "python",
   "name": "python3"
  },
  "language_info": {
   "codemirror_mode": {
    "name": "ipython",
    "version": 3
   },
   "file_extension": ".py",
   "mimetype": "text/x-python",
   "name": "python",
   "nbconvert_exporter": "python",
   "pygments_lexer": "ipython3",
   "version": "3.7.1"
  }
 },
 "nbformat": 4,
 "nbformat_minor": 2
}
