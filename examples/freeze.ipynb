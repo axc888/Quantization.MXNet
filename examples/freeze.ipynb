{
 "cells": [
  {
   "cell_type": "code",
   "execution_count": null,
   "metadata": {},
   "outputs": [],
   "source": [
    "# MXNet package\n",
    "from mxnet import model\n",
    "from mxnet.gluon import nn\n",
    "from mxnet.gluon.model_zoo.vision import resnet50_v1, mobilenet1_0, mobilenet_v2_1_0\n",
    "\n",
    "# Custom package\n",
    "import sys\n",
    "sys.path.append(\"..\")\n",
    "from quantize.convert import convert_model\n",
    "from quantize.freeze import FreezeHelper"
   ]
  },
  {
   "cell_type": "markdown",
   "metadata": {},
   "source": [
    "## Construct a origin net without quantized parameters"
   ]
  },
  {
   "cell_type": "code",
   "execution_count": null,
   "metadata": {},
   "outputs": [],
   "source": [
    "net = mobilenet1_0(pretrained=False)\n",
    "net.output = nn.Dense(20)"
   ]
  },
  {
   "cell_type": "markdown",
   "metadata": {},
   "source": [
    "## Freeze   \n",
    "1. Create a helper with the origin net and quantized parameter file      \n",
    "2. With the help of helper, find what symbol to exclude and what to quantize offline\n",
    "3. Freeze"
   ]
  },
  {
   "cell_type": "code",
   "execution_count": null,
   "metadata": {},
   "outputs": [],
   "source": [
    "helper = FreezeHelper(net, \"./models/cifar100_mobilenet_1_0_quant_relu6-013000.params\", (1,3,224,224))"
   ]
  },
  {
   "cell_type": "code",
   "execution_count": null,
   "metadata": {
    "scrolled": true
   },
   "outputs": [],
   "source": [
    "helper.list_symbols(suffix=\"fwd\")"
   ]
  },
  {
   "cell_type": "code",
   "execution_count": null,
   "metadata": {},
   "outputs": [],
   "source": [
    "# exclude first conv and last fc\n",
    "exclude = [\"mobilenet0_conv0_fwd\", \"dense0_fwd\"]    "
   ]
  },
  {
   "cell_type": "code",
   "execution_count": null,
   "metadata": {},
   "outputs": [],
   "source": [
    "# quantize weight offline\n",
    "offline = [s.name for s in helper.list_symbols(suffix=(\"weight\"))]     "
   ]
  },
  {
   "cell_type": "code",
   "execution_count": null,
   "metadata": {},
   "outputs": [],
   "source": [
    "qsym, qargs, auxes = helper.freeze(exclude, offline, quantize_input_offline=False)"
   ]
  },
  {
   "cell_type": "code",
   "execution_count": null,
   "metadata": {},
   "outputs": [],
   "source": [
    "model.save_checkpoint(\"./tmp/frozen_quantized_model\", 0, qsym, qargs, auxes)"
   ]
  },
  {
   "cell_type": "code",
   "execution_count": null,
   "metadata": {},
   "outputs": [],
   "source": []
  }
 ],
 "metadata": {
  "kernelspec": {
   "display_name": "Python 2",
   "language": "python",
   "name": "python2"
  },
  "language_info": {
   "codemirror_mode": {
    "name": "ipython",
    "version": 3
   },
   "file_extension": ".py",
   "mimetype": "text/x-python",
   "name": "python",
   "nbconvert_exporter": "python",
   "pygments_lexer": "ipython3",
   "version": "3.6.7"
  }
 },
 "nbformat": 4,
 "nbformat_minor": 2
}
